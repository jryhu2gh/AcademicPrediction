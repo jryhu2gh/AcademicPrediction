{
 "cells": [
  {
   "cell_type": "code",
   "execution_count": 2,
   "id": "3a16bfa2-54f1-4067-b557-5ed2911c1eb8",
   "metadata": {},
   "outputs": [],
   "source": [
    "# Print available filepaths for this competition\n",
    "import os\n",
    "for dirname, _, filenames in os.walk('/kaggle/input'):\n",
    "    for filename in filenames:\n",
    "        print(os.path.join(dirname, filename))"
   ]
  },
  {
   "cell_type": "code",
   "execution_count": 3,
   "id": "93f39835-79ef-4f34-bb12-6347de451ef6",
   "metadata": {},
   "outputs": [],
   "source": [
    "# Toggle off warnigns\n",
    "import warnings\n",
    "# Data frames and manipulation \n",
    "import pandas as pd\n",
    "# Basic plots\n",
    "from matplotlib import pyplot as plt \n",
    "# Advanced plots\n",
    "import seaborn as sns\n",
    "# Math operations \n",
    "import numpy as np\n",
    "# Split train dataset \n",
    "from sklearn.model_selection import train_test_split \n",
    "# Test model performance \n",
    "from sklearn.metrics import accuracy_score\n",
    "# Light Gradient Boosting Model Classifier\n",
    "from lightgbm import LGBMClassifier\n",
    "# Decicion Tree Classifier Model\n",
    "from sklearn.tree import DecisionTreeClassifier\n",
    "# Random Forest Model \n",
    "from sklearn.ensemble import RandomForestClassifier\n",
    "# Extreme gradient boosting model\n",
    "from xgboost import XGBClassifier\n",
    "# Categorical Boosting Model \n",
    "from catboost import CatBoostClassifier, Pool\n",
    "# KFold (Multiple model runs)\n",
    "from sklearn.model_selection import StratifiedKFold\n",
    "import torch\n",
    "import torch.nn as nn\n",
    "\n",
    "# Filter out warnings\n",
    "warnings.filterwarnings('ignore')"
   ]
  },
  {
   "cell_type": "markdown",
   "id": "6c53cae2-6524-46ce-a526-2738a71fa3cd",
   "metadata": {},
   "source": [
    "## Data Read and Processing"
   ]
  },
  {
   "cell_type": "code",
   "execution_count": 4,
   "id": "f9320c1d-effb-42b4-9b37-a2d224954f0a",
   "metadata": {},
   "outputs": [],
   "source": [
    "train = pd.read_csv('./playground-series-s4e6/train.csv')\n",
    "test = pd.read_csv('./playground-series-s4e6/test.csv')"
   ]
  },
  {
   "cell_type": "code",
   "execution_count": 5,
   "id": "c2730ee3-8d08-481f-bb50-7bed524ed9da",
   "metadata": {},
   "outputs": [
    {
     "data": {
      "text/html": [
       "<div>\n",
       "<style scoped>\n",
       "    .dataframe tbody tr th:only-of-type {\n",
       "        vertical-align: middle;\n",
       "    }\n",
       "\n",
       "    .dataframe tbody tr th {\n",
       "        vertical-align: top;\n",
       "    }\n",
       "\n",
       "    .dataframe thead th {\n",
       "        text-align: right;\n",
       "    }\n",
       "</style>\n",
       "<table border=\"1\" class=\"dataframe\">\n",
       "  <thead>\n",
       "    <tr style=\"text-align: right;\">\n",
       "      <th></th>\n",
       "      <th>id</th>\n",
       "      <th>Marital status</th>\n",
       "      <th>Application mode</th>\n",
       "      <th>Application order</th>\n",
       "      <th>Course</th>\n",
       "      <th>Daytime/evening attendance</th>\n",
       "      <th>Previous qualification</th>\n",
       "      <th>Previous qualification (grade)</th>\n",
       "      <th>Nacionality</th>\n",
       "      <th>Mother's qualification</th>\n",
       "      <th>...</th>\n",
       "      <th>Curricular units 2nd sem (credited)</th>\n",
       "      <th>Curricular units 2nd sem (enrolled)</th>\n",
       "      <th>Curricular units 2nd sem (evaluations)</th>\n",
       "      <th>Curricular units 2nd sem (approved)</th>\n",
       "      <th>Curricular units 2nd sem (grade)</th>\n",
       "      <th>Curricular units 2nd sem (without evaluations)</th>\n",
       "      <th>Unemployment rate</th>\n",
       "      <th>Inflation rate</th>\n",
       "      <th>GDP</th>\n",
       "      <th>Target</th>\n",
       "    </tr>\n",
       "  </thead>\n",
       "  <tbody>\n",
       "    <tr>\n",
       "      <th>0</th>\n",
       "      <td>0</td>\n",
       "      <td>1</td>\n",
       "      <td>1</td>\n",
       "      <td>1</td>\n",
       "      <td>9238</td>\n",
       "      <td>1</td>\n",
       "      <td>1</td>\n",
       "      <td>126.0</td>\n",
       "      <td>1</td>\n",
       "      <td>1</td>\n",
       "      <td>...</td>\n",
       "      <td>0</td>\n",
       "      <td>6</td>\n",
       "      <td>7</td>\n",
       "      <td>6</td>\n",
       "      <td>12.428571</td>\n",
       "      <td>0</td>\n",
       "      <td>11.1</td>\n",
       "      <td>0.6</td>\n",
       "      <td>2.02</td>\n",
       "      <td>Graduate</td>\n",
       "    </tr>\n",
       "    <tr>\n",
       "      <th>1</th>\n",
       "      <td>1</td>\n",
       "      <td>1</td>\n",
       "      <td>17</td>\n",
       "      <td>1</td>\n",
       "      <td>9238</td>\n",
       "      <td>1</td>\n",
       "      <td>1</td>\n",
       "      <td>125.0</td>\n",
       "      <td>1</td>\n",
       "      <td>19</td>\n",
       "      <td>...</td>\n",
       "      <td>0</td>\n",
       "      <td>6</td>\n",
       "      <td>9</td>\n",
       "      <td>0</td>\n",
       "      <td>0.000000</td>\n",
       "      <td>0</td>\n",
       "      <td>11.1</td>\n",
       "      <td>0.6</td>\n",
       "      <td>2.02</td>\n",
       "      <td>Dropout</td>\n",
       "    </tr>\n",
       "    <tr>\n",
       "      <th>2</th>\n",
       "      <td>2</td>\n",
       "      <td>1</td>\n",
       "      <td>17</td>\n",
       "      <td>2</td>\n",
       "      <td>9254</td>\n",
       "      <td>1</td>\n",
       "      <td>1</td>\n",
       "      <td>137.0</td>\n",
       "      <td>1</td>\n",
       "      <td>3</td>\n",
       "      <td>...</td>\n",
       "      <td>0</td>\n",
       "      <td>6</td>\n",
       "      <td>0</td>\n",
       "      <td>0</td>\n",
       "      <td>0.000000</td>\n",
       "      <td>0</td>\n",
       "      <td>16.2</td>\n",
       "      <td>0.3</td>\n",
       "      <td>-0.92</td>\n",
       "      <td>Dropout</td>\n",
       "    </tr>\n",
       "    <tr>\n",
       "      <th>3</th>\n",
       "      <td>3</td>\n",
       "      <td>1</td>\n",
       "      <td>1</td>\n",
       "      <td>3</td>\n",
       "      <td>9500</td>\n",
       "      <td>1</td>\n",
       "      <td>1</td>\n",
       "      <td>131.0</td>\n",
       "      <td>1</td>\n",
       "      <td>19</td>\n",
       "      <td>...</td>\n",
       "      <td>0</td>\n",
       "      <td>8</td>\n",
       "      <td>11</td>\n",
       "      <td>7</td>\n",
       "      <td>12.820000</td>\n",
       "      <td>0</td>\n",
       "      <td>11.1</td>\n",
       "      <td>0.6</td>\n",
       "      <td>2.02</td>\n",
       "      <td>Enrolled</td>\n",
       "    </tr>\n",
       "    <tr>\n",
       "      <th>4</th>\n",
       "      <td>4</td>\n",
       "      <td>1</td>\n",
       "      <td>1</td>\n",
       "      <td>2</td>\n",
       "      <td>9500</td>\n",
       "      <td>1</td>\n",
       "      <td>1</td>\n",
       "      <td>132.0</td>\n",
       "      <td>1</td>\n",
       "      <td>19</td>\n",
       "      <td>...</td>\n",
       "      <td>0</td>\n",
       "      <td>7</td>\n",
       "      <td>12</td>\n",
       "      <td>6</td>\n",
       "      <td>12.933333</td>\n",
       "      <td>0</td>\n",
       "      <td>7.6</td>\n",
       "      <td>2.6</td>\n",
       "      <td>0.32</td>\n",
       "      <td>Graduate</td>\n",
       "    </tr>\n",
       "    <tr>\n",
       "      <th>...</th>\n",
       "      <td>...</td>\n",
       "      <td>...</td>\n",
       "      <td>...</td>\n",
       "      <td>...</td>\n",
       "      <td>...</td>\n",
       "      <td>...</td>\n",
       "      <td>...</td>\n",
       "      <td>...</td>\n",
       "      <td>...</td>\n",
       "      <td>...</td>\n",
       "      <td>...</td>\n",
       "      <td>...</td>\n",
       "      <td>...</td>\n",
       "      <td>...</td>\n",
       "      <td>...</td>\n",
       "      <td>...</td>\n",
       "      <td>...</td>\n",
       "      <td>...</td>\n",
       "      <td>...</td>\n",
       "      <td>...</td>\n",
       "      <td>...</td>\n",
       "    </tr>\n",
       "    <tr>\n",
       "      <th>76513</th>\n",
       "      <td>76513</td>\n",
       "      <td>1</td>\n",
       "      <td>17</td>\n",
       "      <td>1</td>\n",
       "      <td>9254</td>\n",
       "      <td>1</td>\n",
       "      <td>1</td>\n",
       "      <td>121.0</td>\n",
       "      <td>1</td>\n",
       "      <td>19</td>\n",
       "      <td>...</td>\n",
       "      <td>0</td>\n",
       "      <td>6</td>\n",
       "      <td>8</td>\n",
       "      <td>5</td>\n",
       "      <td>10.600000</td>\n",
       "      <td>0</td>\n",
       "      <td>13.9</td>\n",
       "      <td>-0.3</td>\n",
       "      <td>0.79</td>\n",
       "      <td>Graduate</td>\n",
       "    </tr>\n",
       "    <tr>\n",
       "      <th>76514</th>\n",
       "      <td>76514</td>\n",
       "      <td>1</td>\n",
       "      <td>1</td>\n",
       "      <td>6</td>\n",
       "      <td>9254</td>\n",
       "      <td>1</td>\n",
       "      <td>1</td>\n",
       "      <td>125.0</td>\n",
       "      <td>1</td>\n",
       "      <td>1</td>\n",
       "      <td>...</td>\n",
       "      <td>0</td>\n",
       "      <td>6</td>\n",
       "      <td>9</td>\n",
       "      <td>6</td>\n",
       "      <td>13.875000</td>\n",
       "      <td>0</td>\n",
       "      <td>9.4</td>\n",
       "      <td>-0.8</td>\n",
       "      <td>-3.12</td>\n",
       "      <td>Graduate</td>\n",
       "    </tr>\n",
       "    <tr>\n",
       "      <th>76515</th>\n",
       "      <td>76515</td>\n",
       "      <td>5</td>\n",
       "      <td>17</td>\n",
       "      <td>1</td>\n",
       "      <td>9085</td>\n",
       "      <td>1</td>\n",
       "      <td>1</td>\n",
       "      <td>138.0</td>\n",
       "      <td>1</td>\n",
       "      <td>37</td>\n",
       "      <td>...</td>\n",
       "      <td>0</td>\n",
       "      <td>5</td>\n",
       "      <td>8</td>\n",
       "      <td>5</td>\n",
       "      <td>11.400000</td>\n",
       "      <td>1</td>\n",
       "      <td>9.4</td>\n",
       "      <td>-0.8</td>\n",
       "      <td>-3.12</td>\n",
       "      <td>Enrolled</td>\n",
       "    </tr>\n",
       "    <tr>\n",
       "      <th>76516</th>\n",
       "      <td>76516</td>\n",
       "      <td>1</td>\n",
       "      <td>1</td>\n",
       "      <td>3</td>\n",
       "      <td>9070</td>\n",
       "      <td>1</td>\n",
       "      <td>1</td>\n",
       "      <td>136.0</td>\n",
       "      <td>1</td>\n",
       "      <td>38</td>\n",
       "      <td>...</td>\n",
       "      <td>0</td>\n",
       "      <td>6</td>\n",
       "      <td>0</td>\n",
       "      <td>0</td>\n",
       "      <td>0.000000</td>\n",
       "      <td>0</td>\n",
       "      <td>7.6</td>\n",
       "      <td>2.6</td>\n",
       "      <td>0.32</td>\n",
       "      <td>Dropout</td>\n",
       "    </tr>\n",
       "    <tr>\n",
       "      <th>76517</th>\n",
       "      <td>76517</td>\n",
       "      <td>1</td>\n",
       "      <td>1</td>\n",
       "      <td>1</td>\n",
       "      <td>9773</td>\n",
       "      <td>1</td>\n",
       "      <td>1</td>\n",
       "      <td>133.1</td>\n",
       "      <td>1</td>\n",
       "      <td>19</td>\n",
       "      <td>...</td>\n",
       "      <td>0</td>\n",
       "      <td>6</td>\n",
       "      <td>6</td>\n",
       "      <td>6</td>\n",
       "      <td>13.666667</td>\n",
       "      <td>0</td>\n",
       "      <td>15.5</td>\n",
       "      <td>2.8</td>\n",
       "      <td>-4.06</td>\n",
       "      <td>Graduate</td>\n",
       "    </tr>\n",
       "  </tbody>\n",
       "</table>\n",
       "<p>76518 rows × 38 columns</p>\n",
       "</div>"
      ],
      "text/plain": [
       "          id  Marital status  Application mode  Application order  Course  \\\n",
       "0          0               1                 1                  1    9238   \n",
       "1          1               1                17                  1    9238   \n",
       "2          2               1                17                  2    9254   \n",
       "3          3               1                 1                  3    9500   \n",
       "4          4               1                 1                  2    9500   \n",
       "...      ...             ...               ...                ...     ...   \n",
       "76513  76513               1                17                  1    9254   \n",
       "76514  76514               1                 1                  6    9254   \n",
       "76515  76515               5                17                  1    9085   \n",
       "76516  76516               1                 1                  3    9070   \n",
       "76517  76517               1                 1                  1    9773   \n",
       "\n",
       "       Daytime/evening attendance  Previous qualification  \\\n",
       "0                               1                       1   \n",
       "1                               1                       1   \n",
       "2                               1                       1   \n",
       "3                               1                       1   \n",
       "4                               1                       1   \n",
       "...                           ...                     ...   \n",
       "76513                           1                       1   \n",
       "76514                           1                       1   \n",
       "76515                           1                       1   \n",
       "76516                           1                       1   \n",
       "76517                           1                       1   \n",
       "\n",
       "       Previous qualification (grade)  Nacionality  Mother's qualification  \\\n",
       "0                               126.0            1                       1   \n",
       "1                               125.0            1                      19   \n",
       "2                               137.0            1                       3   \n",
       "3                               131.0            1                      19   \n",
       "4                               132.0            1                      19   \n",
       "...                               ...          ...                     ...   \n",
       "76513                           121.0            1                      19   \n",
       "76514                           125.0            1                       1   \n",
       "76515                           138.0            1                      37   \n",
       "76516                           136.0            1                      38   \n",
       "76517                           133.1            1                      19   \n",
       "\n",
       "       ...  Curricular units 2nd sem (credited)  \\\n",
       "0      ...                                    0   \n",
       "1      ...                                    0   \n",
       "2      ...                                    0   \n",
       "3      ...                                    0   \n",
       "4      ...                                    0   \n",
       "...    ...                                  ...   \n",
       "76513  ...                                    0   \n",
       "76514  ...                                    0   \n",
       "76515  ...                                    0   \n",
       "76516  ...                                    0   \n",
       "76517  ...                                    0   \n",
       "\n",
       "       Curricular units 2nd sem (enrolled)  \\\n",
       "0                                        6   \n",
       "1                                        6   \n",
       "2                                        6   \n",
       "3                                        8   \n",
       "4                                        7   \n",
       "...                                    ...   \n",
       "76513                                    6   \n",
       "76514                                    6   \n",
       "76515                                    5   \n",
       "76516                                    6   \n",
       "76517                                    6   \n",
       "\n",
       "       Curricular units 2nd sem (evaluations)  \\\n",
       "0                                           7   \n",
       "1                                           9   \n",
       "2                                           0   \n",
       "3                                          11   \n",
       "4                                          12   \n",
       "...                                       ...   \n",
       "76513                                       8   \n",
       "76514                                       9   \n",
       "76515                                       8   \n",
       "76516                                       0   \n",
       "76517                                       6   \n",
       "\n",
       "       Curricular units 2nd sem (approved)  Curricular units 2nd sem (grade)  \\\n",
       "0                                        6                         12.428571   \n",
       "1                                        0                          0.000000   \n",
       "2                                        0                          0.000000   \n",
       "3                                        7                         12.820000   \n",
       "4                                        6                         12.933333   \n",
       "...                                    ...                               ...   \n",
       "76513                                    5                         10.600000   \n",
       "76514                                    6                         13.875000   \n",
       "76515                                    5                         11.400000   \n",
       "76516                                    0                          0.000000   \n",
       "76517                                    6                         13.666667   \n",
       "\n",
       "       Curricular units 2nd sem (without evaluations)  Unemployment rate  \\\n",
       "0                                                   0               11.1   \n",
       "1                                                   0               11.1   \n",
       "2                                                   0               16.2   \n",
       "3                                                   0               11.1   \n",
       "4                                                   0                7.6   \n",
       "...                                               ...                ...   \n",
       "76513                                               0               13.9   \n",
       "76514                                               0                9.4   \n",
       "76515                                               1                9.4   \n",
       "76516                                               0                7.6   \n",
       "76517                                               0               15.5   \n",
       "\n",
       "       Inflation rate   GDP    Target  \n",
       "0                 0.6  2.02  Graduate  \n",
       "1                 0.6  2.02   Dropout  \n",
       "2                 0.3 -0.92   Dropout  \n",
       "3                 0.6  2.02  Enrolled  \n",
       "4                 2.6  0.32  Graduate  \n",
       "...               ...   ...       ...  \n",
       "76513            -0.3  0.79  Graduate  \n",
       "76514            -0.8 -3.12  Graduate  \n",
       "76515            -0.8 -3.12  Enrolled  \n",
       "76516             2.6  0.32   Dropout  \n",
       "76517             2.8 -4.06  Graduate  \n",
       "\n",
       "[76518 rows x 38 columns]"
      ]
     },
     "execution_count": 5,
     "metadata": {},
     "output_type": "execute_result"
    }
   ],
   "source": [
    "train"
   ]
  },
  {
   "cell_type": "code",
   "execution_count": 6,
   "id": "d9679642-6440-44ad-8efb-62f620c58fa3",
   "metadata": {},
   "outputs": [],
   "source": [
    "# Encode the target variable to numerical for further analysis\n",
    "train['Target'] = train['Target'].map({'Graduate': 0, 'Dropout': 1, 'Enrolled': 2})"
   ]
  },
  {
   "cell_type": "code",
   "execution_count": 7,
   "id": "db98163c-aa41-4c44-9a75-3ce853783fbc",
   "metadata": {},
   "outputs": [],
   "source": [
    "# Replace spaces in column names in he train and test sets with an underscore\n",
    "train.columns = train.columns.str.replace(' ', '_', regex=True)\n",
    "test.columns = test.columns.str.replace(' ', '_', regex=True)"
   ]
  },
  {
   "cell_type": "code",
   "execution_count": 8,
   "id": "e7f66cf4-386b-42bf-945f-92655efb828e",
   "metadata": {},
   "outputs": [],
   "source": [
    "# Seperate target variable\n",
    "X = train.drop(columns=['Target'])\n",
    "y = train['Target']"
   ]
  },
  {
   "cell_type": "code",
   "execution_count": 9,
   "id": "b1f282fe-4f88-4592-b940-5c42b5309fc2",
   "metadata": {},
   "outputs": [
    {
     "name": "stdout",
     "output_type": "stream",
     "text": [
      "torch.Size([76518, 36])\n",
      "torch.float32 torch.Size([76518, 3])\n"
     ]
    }
   ],
   "source": [
    "X_tensor = torch.tensor(X.values[:,1:], dtype=torch.float32)\n",
    "print(X_tensor.shape)\n",
    "y_tensor = torch.tensor(y.values)\n",
    "y_one_hot = nn.functional.one_hot(y_tensor, num_classes=3)\n",
    "X_train = X_tensor\n",
    "y_train = y_one_hot.to(torch.float32)\n",
    "print(y_train.dtype,y_train.shape)\n",
    "\n",
    "# min_vals, _ = torch.min(X_train, dim=0, keepdim=True)\n",
    "# max_vals, _ = torch.max(X_train, dim=0, keepdim=True)\n",
    "# X_train = (X_train - min_vals) / (max_vals - min_vals)"
   ]
  },
  {
   "cell_type": "code",
   "execution_count": null,
   "id": "3ef57631-05bd-45ee-8a3f-220f0853304f",
   "metadata": {},
   "outputs": [],
   "source": []
  },
  {
   "cell_type": "code",
   "execution_count": 10,
   "id": "2ee205f6-25ce-4b48-a7b5-08ac6bc4eedd",
   "metadata": {},
   "outputs": [
    {
     "ename": "NameError",
     "evalue": "name 'row_max' is not defined",
     "output_type": "error",
     "traceback": [
      "\u001b[1;31m---------------------------------------------------------------------------\u001b[0m",
      "\u001b[1;31mNameError\u001b[0m                                 Traceback (most recent call last)",
      "Cell \u001b[1;32mIn[10], line 1\u001b[0m\n\u001b[1;32m----> 1\u001b[0m \u001b[38;5;28mprint\u001b[39m(\u001b[43mrow_max\u001b[49m)\n\u001b[0;32m      2\u001b[0m \u001b[38;5;28mprint\u001b[39m(row_min)\n",
      "\u001b[1;31mNameError\u001b[0m: name 'row_max' is not defined"
     ]
    }
   ],
   "source": [
    "print(row_max)\n",
    "print(row_min)"
   ]
  },
  {
   "cell_type": "code",
   "execution_count": 39,
   "id": "f277be3f-916c-4df4-b4da-5a4488b6c890",
   "metadata": {},
   "outputs": [],
   "source": [
    "# normalize all data to range (0,1)\n",
    "row_max = X_train.max(dim=0,keepdim=True).values\n",
    "row_min = X_train.min(dim=0,keepdim=True).values\n",
    "X_train = (X_train-row_min)/(row_max-row_min) + 1e-5"
   ]
  },
  {
   "cell_type": "code",
   "execution_count": 40,
   "id": "8db0494c-7dad-431b-9019-5103eefc6886",
   "metadata": {},
   "outputs": [
    {
     "data": {
      "text/plain": [
       "tensor([1.0000e-05, 1.0000e-05, 1.1112e-01, 9.2439e-01, 1.0000e+00, 1.0000e-05,\n",
       "        3.2633e-01, 1.0000e-05, 1.0000e-05, 4.1861e-01, 2.5783e-02, 2.5651e-02,\n",
       "        2.9054e-01, 1.0000e-05, 1.0000e-05, 1.0000e-05, 1.0000e+00, 1.0000e-05,\n",
       "        1.0000e+00, 1.8878e-02, 1.0000e-05, 1.0000e-05, 2.3078e-01, 1.3334e-01,\n",
       "        2.3078e-01, 7.6822e-01, 1.0000e-05, 1.0000e-05, 2.6088e-01, 2.1213e-01,\n",
       "        3.0001e-01, 6.9049e-01, 1.0000e-05, 4.0699e-01, 3.1112e-01, 8.0318e-01])"
      ]
     },
     "execution_count": 40,
     "metadata": {},
     "output_type": "execute_result"
    }
   ],
   "source": [
    "X_train[0,:]"
   ]
  },
  {
   "cell_type": "markdown",
   "id": "6619c6c5-b399-496a-936d-5939c046ee99",
   "metadata": {},
   "source": [
    "## Build Model and data loader\n",
    "Previously the model was built upon the nn.transformerencoderlayer. The result was not good. Wnat to try self-implemented transformer structure"
   ]
  },
  {
   "cell_type": "code",
   "execution_count": 41,
   "id": "fa0afb3b-9623-42fd-a880-224028f1f6b5",
   "metadata": {},
   "outputs": [],
   "source": [
    "import torch\n",
    "import torch.nn as nn\n",
    "import torch.optim as optim\n",
    "import torch.nn.init as init"
   ]
  },
  {
   "cell_type": "code",
   "execution_count": 42,
   "id": "51ba1b27-25e4-44a3-aa60-4b1b61d5f4d4",
   "metadata": {},
   "outputs": [],
   "source": [
    "# encoder_layer = nn.TransformerEncoderLayer(d_model=512, nhead=8)\n",
    "# transformer_encoder = nn.TransformerEncoder(encoder_layer, num_layers=6)\n",
    "# src = torch.rand(1,512)\n",
    "# out = transformer_encoder(src)\n",
    "# # output = encoder_layer(src)\n",
    "# print(out.shape)"
   ]
  },
  {
   "cell_type": "code",
   "execution_count": 91,
   "id": "cf01830f-aa8e-47cf-915d-563df534f14f",
   "metadata": {},
   "outputs": [],
   "source": [
    "class ClassifierModel(nn.Module):\n",
    "    def __init__(self, input_dim, num_classes):\n",
    "        super(ClassifierModel, self).__init__()\n",
    "        self.mlp1 = nn.Linear(in_features = 36, out_features = 36)\n",
    "        # self.layer1 = nn.Sequential(\n",
    "        #     nn.Conv1d(in_channels=1, out_channels=8, kernel_size=19,padding = 'same',padding_mode='reflect'),\n",
    "        #     nn.ReLU()\n",
    "        # )\n",
    "        self.relu = nn.ReLU()\n",
    "        self.layer2 = nn.Sequential(\n",
    "            nn.Conv1d(in_channels=1, out_channels=16, kernel_size=5),\n",
    "            nn.ReLU()\n",
    "        )\n",
    "        self.layer3 = nn.Sequential(\n",
    "            nn.Conv1d(in_channels=16, out_channels=32, kernel_size=5),\n",
    "            nn.ReLU()\n",
    "        )\n",
    "        self.mlp2 = nn.Linear(in_features=(input_dim-4*2)*32,out_features=3)\n",
    "        # self.relu = nn.ReLU()\n",
    "        self.softmax = nn.Softmax()\n",
    "        \n",
    "    def _initialize_weights(self):\n",
    "        # Initialize embedding layer\n",
    "        init.xavier_uniform_(self.embedding.weight)\n",
    "        if self.embedding.bias is not None:\n",
    "            init.constant_(self.embedding.bias, 0)\n",
    "        \n",
    "        # Initialize transformer encoder layers\n",
    "        for layer in self.transformer_encoder.layers:\n",
    "            init.xavier_uniform_(layer.self_attention.in_proj_weight)\n",
    "            init.xavier_uniform_(layer.self_attention.out_proj.weight)\n",
    "            init.constant_(layer.self_attention.in_proj_bias, 0)\n",
    "            init.constant_(layer.self_attention.out_proj.bias, 0)\n",
    "            init.xavier_uniform_(layer.feed_forward[0].weight)\n",
    "            init.xavier_uniform_(layer.feed_forward[2].weight)\n",
    "            init.constant_(layer.feed_forward[0].bias, 0)\n",
    "            init.constant_(layer.feed_forward[2].bias, 0)\n",
    "        \n",
    "        # Initialize fully connected layer with smaller values to start close to zero\n",
    "        init.xavier_uniform_(self.fc.weight, gain=init.calculate_gain('sigmoid'))\n",
    "        init.constant_(self.fc.bias, 0)\n",
    "        \n",
    "    def forward(self, x):\n",
    "        x1 = self.mlp1(x)\n",
    "        x1 = self.relu(x1)\n",
    "        x2 = self.layer2(x1)\n",
    "        x3 = self.layer3(x2)\n",
    "        # print(x3.shape)\n",
    "        x3 = self.mlp2(x3.view(-1,x3.shape[-2]*x3.shape[-1]))\n",
    "        # x4 = self.relu(x3)\n",
    "        output = self.softmax(x3)\n",
    "        return output\n",
    "\n"
   ]
  },
  {
   "cell_type": "code",
   "execution_count": 92,
   "id": "eafa0932-cfb2-4406-b9ee-4bd2a34b7b47",
   "metadata": {},
   "outputs": [
    {
     "name": "stdout",
     "output_type": "stream",
     "text": [
      "tensor([[0.3275, 0.3125, 0.3600],\n",
      "        [0.3259, 0.3173, 0.3568],\n",
      "        [0.3293, 0.3122, 0.3585],\n",
      "        [0.3211, 0.3216, 0.3573],\n",
      "        [0.3261, 0.3141, 0.3598],\n",
      "        [0.3260, 0.3152, 0.3589],\n",
      "        [0.3269, 0.3124, 0.3607],\n",
      "        [0.3259, 0.3161, 0.3580],\n",
      "        [0.3269, 0.3199, 0.3532],\n",
      "        [0.3262, 0.3141, 0.3597],\n",
      "        [0.3251, 0.3163, 0.3586],\n",
      "        [0.3268, 0.3142, 0.3591],\n",
      "        [0.3232, 0.3174, 0.3595],\n",
      "        [0.3251, 0.3165, 0.3584],\n",
      "        [0.3281, 0.3150, 0.3569],\n",
      "        [0.3237, 0.3149, 0.3614],\n",
      "        [0.3273, 0.3167, 0.3560],\n",
      "        [0.3305, 0.3135, 0.3560],\n",
      "        [0.3271, 0.3109, 0.3620],\n",
      "        [0.3253, 0.3162, 0.3585],\n",
      "        [0.3252, 0.3155, 0.3594],\n",
      "        [0.3280, 0.3116, 0.3605],\n",
      "        [0.3269, 0.3151, 0.3580],\n",
      "        [0.3208, 0.3183, 0.3609],\n",
      "        [0.3308, 0.3097, 0.3596],\n",
      "        [0.3276, 0.3134, 0.3589],\n",
      "        [0.3292, 0.3138, 0.3570],\n",
      "        [0.3264, 0.3176, 0.3559],\n",
      "        [0.3280, 0.3111, 0.3609],\n",
      "        [0.3264, 0.3125, 0.3611],\n",
      "        [0.3250, 0.3159, 0.3591],\n",
      "        [0.3280, 0.3158, 0.3562]], device='cuda:0', grad_fn=<SoftmaxBackward0>)\n"
     ]
    }
   ],
   "source": [
    "device = 'cuda'\n",
    "input_dim = 36\n",
    "num_classes = 3\n",
    "model = ClassifierModel(input_dim, num_classes)\n",
    "model.to(device)\n",
    "# summary(model, input_size=(1,37))\n",
    "src = torch.rand((32,1,36), device = device)\n",
    "src.to(device)\n",
    "src.get_device()\n",
    "output = model(src)\n",
    "print(output)"
   ]
  },
  {
   "cell_type": "code",
   "execution_count": 93,
   "id": "d948c892-0459-4bc7-8628-5b937e8a2330",
   "metadata": {},
   "outputs": [
    {
     "name": "stdout",
     "output_type": "stream",
     "text": [
      "torch.float32 torch.float32\n"
     ]
    }
   ],
   "source": [
    "from torch.utils.data import Dataset, DataLoader\n",
    "\n",
    "class CustomDataset(Dataset):\n",
    "    def __init__(self, data, labels):\n",
    "        self.data = data\n",
    "        self.labels = labels\n",
    "\n",
    "    def __len__(self):\n",
    "        return len(self.data)\n",
    "    \n",
    "    def __getitem__(self, idx):\n",
    "        # print(self.labels[idx].shape)\n",
    "        return self.data[idx].view([-1,36]), self.labels[idx]\n",
    "\n",
    "batch_size = 16\n",
    "print(X_train.dtype, y_train.dtype)\n",
    "dataset = CustomDataset(X_train, y_train)\n",
    "dataloader = DataLoader(dataset, batch_size=256, shuffle=True)\n",
    "\n",
    "train_size = int(0.9*len(dataset))\n",
    "val_size =  len(dataset)-train_size\n",
    "train_dataset, val_dataset = torch.utils.data.random_split(dataset, [train_size, val_size])\n",
    "\n",
    "train_loader = DataLoader(train_dataset, batch_size=batch_size, shuffle=True)\n",
    "val_loader = DataLoader(val_dataset, batch_size=batch_size, shuffle=False)"
   ]
  },
  {
   "cell_type": "markdown",
   "id": "9fda0798-4314-42bc-8969-fcf9d40aa5cc",
   "metadata": {},
   "source": [
    "## Training"
   ]
  },
  {
   "cell_type": "code",
   "execution_count": 94,
   "id": "268f6ebc-5d6d-4844-b230-0a192a8d09e5",
   "metadata": {},
   "outputs": [
    {
     "data": {
      "text/plain": [
       "==========================================================================================\n",
       "Layer (type:depth-idx)                   Output Shape              Param #\n",
       "==========================================================================================\n",
       "ClassifierModel                          [2, 3]                    --\n",
       "├─Linear: 1-1                            [2, 1, 36]                1,332\n",
       "├─ReLU: 1-2                              [2, 1, 36]                --\n",
       "├─Sequential: 1-3                        [2, 16, 32]               --\n",
       "│    └─Conv1d: 2-1                       [2, 16, 32]               96\n",
       "│    └─ReLU: 2-2                         [2, 16, 32]               --\n",
       "├─Sequential: 1-4                        [2, 32, 28]               --\n",
       "│    └─Conv1d: 2-3                       [2, 32, 28]               2,592\n",
       "│    └─ReLU: 2-4                         [2, 32, 28]               --\n",
       "├─Linear: 1-5                            [2, 3]                    2,691\n",
       "├─Softmax: 1-6                           [2, 3]                    --\n",
       "==========================================================================================\n",
       "Total params: 6,711\n",
       "Trainable params: 6,711\n",
       "Non-trainable params: 0\n",
       "Total mult-adds (Units.MEGABYTES): 0.16\n",
       "==========================================================================================\n",
       "Input size (MB): 0.00\n",
       "Forward/backward pass size (MB): 0.02\n",
       "Params size (MB): 0.03\n",
       "Estimated Total Size (MB): 0.05\n",
       "=========================================================================================="
      ]
     },
     "execution_count": 94,
     "metadata": {},
     "output_type": "execute_result"
    }
   ],
   "source": [
    "from torchinfo import summary\n",
    "from tqdm.notebook import tqdm\n",
    "torch.cuda.empty_cache()\n",
    "device = 'cuda'\n",
    "input_dim = 36\n",
    "num_classes = 3\n",
    "\n",
    "model = ClassifierModel(input_dim, num_classes)\n",
    "model.to(device)\n",
    "summary(model, input_size=(2, 1, input_dim))"
   ]
  },
  {
   "cell_type": "code",
   "execution_count": 95,
   "id": "ae1a1743-b69f-42ed-aa35-452830f15d07",
   "metadata": {},
   "outputs": [
    {
     "data": {
      "text/plain": [
       "torch.Size([16, 3])"
      ]
     },
     "execution_count": 95,
     "metadata": {},
     "output_type": "execute_result"
    }
   ],
   "source": [
    "targets.shape"
   ]
  },
  {
   "cell_type": "code",
   "execution_count": 96,
   "id": "f931ef97-c1da-4f94-963f-412f106a72aa",
   "metadata": {},
   "outputs": [
    {
     "data": {
      "application/vnd.jupyter.widget-view+json": {
       "model_id": "8935323162ef4e8d8f9bc7f8df667754",
       "version_major": 2,
       "version_minor": 0
      },
      "text/plain": [
       "  0%|          | 0/4305 [00:00<?, ?it/s]"
      ]
     },
     "metadata": {},
     "output_type": "display_data"
    },
    {
     "name": "stdout",
     "output_type": "stream",
     "text": [
      "Epoch 1/10, Loss: 0.7527\n"
     ]
    },
    {
     "data": {
      "application/vnd.jupyter.widget-view+json": {
       "model_id": "65bc06ee2b7147f1a41a6955bbdd5a59",
       "version_major": 2,
       "version_minor": 0
      },
      "text/plain": [
       "  0%|          | 0/479 [00:00<?, ?it/s]"
      ]
     },
     "metadata": {},
     "output_type": "display_data"
    },
    {
     "name": "stdout",
     "output_type": "stream",
     "text": [
      "Accuracy: 0.81080375782881; Loss: 0.7335783435733794\n"
     ]
    },
    {
     "data": {
      "application/vnd.jupyter.widget-view+json": {
       "model_id": "dd551632e2d64c13891e59728d5d15ad",
       "version_major": 2,
       "version_minor": 0
      },
      "text/plain": [
       "  0%|          | 0/4305 [00:00<?, ?it/s]"
      ]
     },
     "metadata": {},
     "output_type": "display_data"
    },
    {
     "name": "stdout",
     "output_type": "stream",
     "text": [
      "Epoch 2/10, Loss: 0.7366\n"
     ]
    },
    {
     "data": {
      "application/vnd.jupyter.widget-view+json": {
       "model_id": "0c9dd3817e0d435590f78e84573e00fb",
       "version_major": 2,
       "version_minor": 0
      },
      "text/plain": [
       "  0%|          | 0/479 [00:00<?, ?it/s]"
      ]
     },
     "metadata": {},
     "output_type": "display_data"
    },
    {
     "name": "stdout",
     "output_type": "stream",
     "text": [
      "Accuracy: 0.8093684759916493; Loss: 0.7335904862203962\n"
     ]
    },
    {
     "data": {
      "application/vnd.jupyter.widget-view+json": {
       "model_id": "a97af71d23144750921ecb7189f08978",
       "version_major": 2,
       "version_minor": 0
      },
      "text/plain": [
       "  0%|          | 0/4305 [00:00<?, ?it/s]"
      ]
     },
     "metadata": {},
     "output_type": "display_data"
    },
    {
     "name": "stdout",
     "output_type": "stream",
     "text": [
      "Epoch 3/10, Loss: 0.7344\n"
     ]
    },
    {
     "data": {
      "application/vnd.jupyter.widget-view+json": {
       "model_id": "e470b41cb0af4cac98bad8fb1373be01",
       "version_major": 2,
       "version_minor": 0
      },
      "text/plain": [
       "  0%|          | 0/479 [00:00<?, ?it/s]"
      ]
     },
     "metadata": {},
     "output_type": "display_data"
    },
    {
     "name": "stdout",
     "output_type": "stream",
     "text": [
      "Accuracy: 0.8144572025052192; Loss: 0.7310199774938047\n"
     ]
    },
    {
     "data": {
      "application/vnd.jupyter.widget-view+json": {
       "model_id": "77f6c1f6c00347589be63efbf91d9be0",
       "version_major": 2,
       "version_minor": 0
      },
      "text/plain": [
       "  0%|          | 0/4305 [00:00<?, ?it/s]"
      ]
     },
     "metadata": {},
     "output_type": "display_data"
    },
    {
     "name": "stdout",
     "output_type": "stream",
     "text": [
      "Epoch 4/10, Loss: 0.7332\n"
     ]
    },
    {
     "data": {
      "application/vnd.jupyter.widget-view+json": {
       "model_id": "a1f16fc0731a419c899acd6c6230c8cd",
       "version_major": 2,
       "version_minor": 0
      },
      "text/plain": [
       "  0%|          | 0/479 [00:00<?, ?it/s]"
      ]
     },
     "metadata": {},
     "output_type": "display_data"
    },
    {
     "name": "stdout",
     "output_type": "stream",
     "text": [
      "Accuracy: 0.8126304801670147; Loss: 0.7319707714694991\n"
     ]
    },
    {
     "data": {
      "application/vnd.jupyter.widget-view+json": {
       "model_id": "67778cbb334c472182774a9194c1da48",
       "version_major": 2,
       "version_minor": 0
      },
      "text/plain": [
       "  0%|          | 0/4305 [00:00<?, ?it/s]"
      ]
     },
     "metadata": {},
     "output_type": "display_data"
    },
    {
     "ename": "KeyboardInterrupt",
     "evalue": "",
     "output_type": "error",
     "traceback": [
      "\u001b[1;31m---------------------------------------------------------------------------\u001b[0m",
      "\u001b[1;31mKeyboardInterrupt\u001b[0m                         Traceback (most recent call last)",
      "Cell \u001b[1;32mIn[96], line 17\u001b[0m\n\u001b[0;32m     14\u001b[0m inputs, targets \u001b[38;5;241m=\u001b[39m inputs\u001b[38;5;241m.\u001b[39mto(device), targets\u001b[38;5;241m.\u001b[39mto(device)\n\u001b[0;32m     16\u001b[0m optimizer\u001b[38;5;241m.\u001b[39mzero_grad()\n\u001b[1;32m---> 17\u001b[0m outputs \u001b[38;5;241m=\u001b[39m \u001b[43mmodel\u001b[49m\u001b[43m(\u001b[49m\u001b[43minputs\u001b[49m\u001b[43m)\u001b[49m\n\u001b[0;32m     18\u001b[0m loss \u001b[38;5;241m=\u001b[39m criterion(outputs, targets)\n\u001b[0;32m     20\u001b[0m loss\u001b[38;5;241m.\u001b[39mbackward()\n",
      "File \u001b[1;32mC:\\Program Files\\Python311\\Lib\\site-packages\\torch\\nn\\modules\\module.py:1511\u001b[0m, in \u001b[0;36mModule._wrapped_call_impl\u001b[1;34m(self, *args, **kwargs)\u001b[0m\n\u001b[0;32m   1509\u001b[0m     \u001b[38;5;28;01mreturn\u001b[39;00m \u001b[38;5;28mself\u001b[39m\u001b[38;5;241m.\u001b[39m_compiled_call_impl(\u001b[38;5;241m*\u001b[39margs, \u001b[38;5;241m*\u001b[39m\u001b[38;5;241m*\u001b[39mkwargs)  \u001b[38;5;66;03m# type: ignore[misc]\u001b[39;00m\n\u001b[0;32m   1510\u001b[0m \u001b[38;5;28;01melse\u001b[39;00m:\n\u001b[1;32m-> 1511\u001b[0m     \u001b[38;5;28;01mreturn\u001b[39;00m \u001b[38;5;28;43mself\u001b[39;49m\u001b[38;5;241;43m.\u001b[39;49m\u001b[43m_call_impl\u001b[49m\u001b[43m(\u001b[49m\u001b[38;5;241;43m*\u001b[39;49m\u001b[43margs\u001b[49m\u001b[43m,\u001b[49m\u001b[43m \u001b[49m\u001b[38;5;241;43m*\u001b[39;49m\u001b[38;5;241;43m*\u001b[39;49m\u001b[43mkwargs\u001b[49m\u001b[43m)\u001b[49m\n",
      "File \u001b[1;32mC:\\Program Files\\Python311\\Lib\\site-packages\\torch\\nn\\modules\\module.py:1520\u001b[0m, in \u001b[0;36mModule._call_impl\u001b[1;34m(self, *args, **kwargs)\u001b[0m\n\u001b[0;32m   1515\u001b[0m \u001b[38;5;66;03m# If we don't have any hooks, we want to skip the rest of the logic in\u001b[39;00m\n\u001b[0;32m   1516\u001b[0m \u001b[38;5;66;03m# this function, and just call forward.\u001b[39;00m\n\u001b[0;32m   1517\u001b[0m \u001b[38;5;28;01mif\u001b[39;00m \u001b[38;5;129;01mnot\u001b[39;00m (\u001b[38;5;28mself\u001b[39m\u001b[38;5;241m.\u001b[39m_backward_hooks \u001b[38;5;129;01mor\u001b[39;00m \u001b[38;5;28mself\u001b[39m\u001b[38;5;241m.\u001b[39m_backward_pre_hooks \u001b[38;5;129;01mor\u001b[39;00m \u001b[38;5;28mself\u001b[39m\u001b[38;5;241m.\u001b[39m_forward_hooks \u001b[38;5;129;01mor\u001b[39;00m \u001b[38;5;28mself\u001b[39m\u001b[38;5;241m.\u001b[39m_forward_pre_hooks\n\u001b[0;32m   1518\u001b[0m         \u001b[38;5;129;01mor\u001b[39;00m _global_backward_pre_hooks \u001b[38;5;129;01mor\u001b[39;00m _global_backward_hooks\n\u001b[0;32m   1519\u001b[0m         \u001b[38;5;129;01mor\u001b[39;00m _global_forward_hooks \u001b[38;5;129;01mor\u001b[39;00m _global_forward_pre_hooks):\n\u001b[1;32m-> 1520\u001b[0m     \u001b[38;5;28;01mreturn\u001b[39;00m \u001b[43mforward_call\u001b[49m\u001b[43m(\u001b[49m\u001b[38;5;241;43m*\u001b[39;49m\u001b[43margs\u001b[49m\u001b[43m,\u001b[49m\u001b[43m \u001b[49m\u001b[38;5;241;43m*\u001b[39;49m\u001b[38;5;241;43m*\u001b[39;49m\u001b[43mkwargs\u001b[49m\u001b[43m)\u001b[49m\n\u001b[0;32m   1522\u001b[0m \u001b[38;5;28;01mtry\u001b[39;00m:\n\u001b[0;32m   1523\u001b[0m     result \u001b[38;5;241m=\u001b[39m \u001b[38;5;28;01mNone\u001b[39;00m\n",
      "Cell \u001b[1;32mIn[91], line 49\u001b[0m, in \u001b[0;36mClassifierModel.forward\u001b[1;34m(self, x)\u001b[0m\n\u001b[0;32m     47\u001b[0m x3 \u001b[38;5;241m=\u001b[39m \u001b[38;5;28mself\u001b[39m\u001b[38;5;241m.\u001b[39mlayer3(x2)\n\u001b[0;32m     48\u001b[0m \u001b[38;5;66;03m# print(x3.shape)\u001b[39;00m\n\u001b[1;32m---> 49\u001b[0m x3 \u001b[38;5;241m=\u001b[39m \u001b[38;5;28;43mself\u001b[39;49m\u001b[38;5;241;43m.\u001b[39;49m\u001b[43mmlp2\u001b[49m\u001b[43m(\u001b[49m\u001b[43mx3\u001b[49m\u001b[38;5;241;43m.\u001b[39;49m\u001b[43mview\u001b[49m\u001b[43m(\u001b[49m\u001b[38;5;241;43m-\u001b[39;49m\u001b[38;5;241;43m1\u001b[39;49m\u001b[43m,\u001b[49m\u001b[43mx3\u001b[49m\u001b[38;5;241;43m.\u001b[39;49m\u001b[43mshape\u001b[49m\u001b[43m[\u001b[49m\u001b[38;5;241;43m-\u001b[39;49m\u001b[38;5;241;43m2\u001b[39;49m\u001b[43m]\u001b[49m\u001b[38;5;241;43m*\u001b[39;49m\u001b[43mx3\u001b[49m\u001b[38;5;241;43m.\u001b[39;49m\u001b[43mshape\u001b[49m\u001b[43m[\u001b[49m\u001b[38;5;241;43m-\u001b[39;49m\u001b[38;5;241;43m1\u001b[39;49m\u001b[43m]\u001b[49m\u001b[43m)\u001b[49m\u001b[43m)\u001b[49m\n\u001b[0;32m     50\u001b[0m \u001b[38;5;66;03m# x4 = self.relu(x3)\u001b[39;00m\n\u001b[0;32m     51\u001b[0m output \u001b[38;5;241m=\u001b[39m \u001b[38;5;28mself\u001b[39m\u001b[38;5;241m.\u001b[39msoftmax(x3)\n",
      "File \u001b[1;32mC:\\Program Files\\Python311\\Lib\\site-packages\\torch\\nn\\modules\\module.py:1511\u001b[0m, in \u001b[0;36mModule._wrapped_call_impl\u001b[1;34m(self, *args, **kwargs)\u001b[0m\n\u001b[0;32m   1509\u001b[0m     \u001b[38;5;28;01mreturn\u001b[39;00m \u001b[38;5;28mself\u001b[39m\u001b[38;5;241m.\u001b[39m_compiled_call_impl(\u001b[38;5;241m*\u001b[39margs, \u001b[38;5;241m*\u001b[39m\u001b[38;5;241m*\u001b[39mkwargs)  \u001b[38;5;66;03m# type: ignore[misc]\u001b[39;00m\n\u001b[0;32m   1510\u001b[0m \u001b[38;5;28;01melse\u001b[39;00m:\n\u001b[1;32m-> 1511\u001b[0m     \u001b[38;5;28;01mreturn\u001b[39;00m \u001b[38;5;28;43mself\u001b[39;49m\u001b[38;5;241;43m.\u001b[39;49m\u001b[43m_call_impl\u001b[49m\u001b[43m(\u001b[49m\u001b[38;5;241;43m*\u001b[39;49m\u001b[43margs\u001b[49m\u001b[43m,\u001b[49m\u001b[43m \u001b[49m\u001b[38;5;241;43m*\u001b[39;49m\u001b[38;5;241;43m*\u001b[39;49m\u001b[43mkwargs\u001b[49m\u001b[43m)\u001b[49m\n",
      "File \u001b[1;32mC:\\Program Files\\Python311\\Lib\\site-packages\\torch\\nn\\modules\\module.py:1520\u001b[0m, in \u001b[0;36mModule._call_impl\u001b[1;34m(self, *args, **kwargs)\u001b[0m\n\u001b[0;32m   1515\u001b[0m \u001b[38;5;66;03m# If we don't have any hooks, we want to skip the rest of the logic in\u001b[39;00m\n\u001b[0;32m   1516\u001b[0m \u001b[38;5;66;03m# this function, and just call forward.\u001b[39;00m\n\u001b[0;32m   1517\u001b[0m \u001b[38;5;28;01mif\u001b[39;00m \u001b[38;5;129;01mnot\u001b[39;00m (\u001b[38;5;28mself\u001b[39m\u001b[38;5;241m.\u001b[39m_backward_hooks \u001b[38;5;129;01mor\u001b[39;00m \u001b[38;5;28mself\u001b[39m\u001b[38;5;241m.\u001b[39m_backward_pre_hooks \u001b[38;5;129;01mor\u001b[39;00m \u001b[38;5;28mself\u001b[39m\u001b[38;5;241m.\u001b[39m_forward_hooks \u001b[38;5;129;01mor\u001b[39;00m \u001b[38;5;28mself\u001b[39m\u001b[38;5;241m.\u001b[39m_forward_pre_hooks\n\u001b[0;32m   1518\u001b[0m         \u001b[38;5;129;01mor\u001b[39;00m _global_backward_pre_hooks \u001b[38;5;129;01mor\u001b[39;00m _global_backward_hooks\n\u001b[0;32m   1519\u001b[0m         \u001b[38;5;129;01mor\u001b[39;00m _global_forward_hooks \u001b[38;5;129;01mor\u001b[39;00m _global_forward_pre_hooks):\n\u001b[1;32m-> 1520\u001b[0m     \u001b[38;5;28;01mreturn\u001b[39;00m \u001b[43mforward_call\u001b[49m\u001b[43m(\u001b[49m\u001b[38;5;241;43m*\u001b[39;49m\u001b[43margs\u001b[49m\u001b[43m,\u001b[49m\u001b[43m \u001b[49m\u001b[38;5;241;43m*\u001b[39;49m\u001b[38;5;241;43m*\u001b[39;49m\u001b[43mkwargs\u001b[49m\u001b[43m)\u001b[49m\n\u001b[0;32m   1522\u001b[0m \u001b[38;5;28;01mtry\u001b[39;00m:\n\u001b[0;32m   1523\u001b[0m     result \u001b[38;5;241m=\u001b[39m \u001b[38;5;28;01mNone\u001b[39;00m\n",
      "File \u001b[1;32mC:\\Program Files\\Python311\\Lib\\site-packages\\torch\\nn\\modules\\linear.py:116\u001b[0m, in \u001b[0;36mLinear.forward\u001b[1;34m(self, input)\u001b[0m\n\u001b[0;32m    115\u001b[0m \u001b[38;5;28;01mdef\u001b[39;00m \u001b[38;5;21mforward\u001b[39m(\u001b[38;5;28mself\u001b[39m, \u001b[38;5;28minput\u001b[39m: Tensor) \u001b[38;5;241m-\u001b[39m\u001b[38;5;241m>\u001b[39m Tensor:\n\u001b[1;32m--> 116\u001b[0m     \u001b[38;5;28;01mreturn\u001b[39;00m \u001b[43mF\u001b[49m\u001b[38;5;241;43m.\u001b[39;49m\u001b[43mlinear\u001b[49m\u001b[43m(\u001b[49m\u001b[38;5;28;43minput\u001b[39;49m\u001b[43m,\u001b[49m\u001b[43m \u001b[49m\u001b[38;5;28;43mself\u001b[39;49m\u001b[38;5;241;43m.\u001b[39;49m\u001b[43mweight\u001b[49m\u001b[43m,\u001b[49m\u001b[43m \u001b[49m\u001b[38;5;28;43mself\u001b[39;49m\u001b[38;5;241;43m.\u001b[39;49m\u001b[43mbias\u001b[49m\u001b[43m)\u001b[49m\n",
      "File \u001b[1;32mC:\\Program Files\\Python311\\Lib\\site-packages\\torch\\fx\\traceback.py:68\u001b[0m, in \u001b[0;36mformat_stack\u001b[1;34m()\u001b[0m\n\u001b[0;32m     65\u001b[0m     \u001b[38;5;28;01mreturn\u001b[39;00m [current_meta\u001b[38;5;241m.\u001b[39mget(\u001b[38;5;124m\"\u001b[39m\u001b[38;5;124mstack_trace\u001b[39m\u001b[38;5;124m\"\u001b[39m, \u001b[38;5;124m\"\u001b[39m\u001b[38;5;124m\"\u001b[39m)]\n\u001b[0;32m     66\u001b[0m \u001b[38;5;28;01melse\u001b[39;00m:\n\u001b[0;32m     67\u001b[0m     \u001b[38;5;66;03m# fallback to traceback.format_stack()\u001b[39;00m\n\u001b[1;32m---> 68\u001b[0m     \u001b[38;5;28;01mreturn\u001b[39;00m traceback\u001b[38;5;241m.\u001b[39mformat_list(\u001b[43mtraceback\u001b[49m\u001b[38;5;241;43m.\u001b[39;49m\u001b[43mextract_stack\u001b[49m\u001b[43m(\u001b[49m\u001b[43m)\u001b[49m[:\u001b[38;5;241m-\u001b[39m\u001b[38;5;241m1\u001b[39m])\n",
      "File \u001b[1;32mC:\\Program Files\\Python311\\Lib\\traceback.py:231\u001b[0m, in \u001b[0;36mextract_stack\u001b[1;34m(f, limit)\u001b[0m\n\u001b[0;32m    229\u001b[0m \u001b[38;5;28;01mif\u001b[39;00m f \u001b[38;5;129;01mis\u001b[39;00m \u001b[38;5;28;01mNone\u001b[39;00m:\n\u001b[0;32m    230\u001b[0m     f \u001b[38;5;241m=\u001b[39m sys\u001b[38;5;241m.\u001b[39m_getframe()\u001b[38;5;241m.\u001b[39mf_back\n\u001b[1;32m--> 231\u001b[0m stack \u001b[38;5;241m=\u001b[39m \u001b[43mStackSummary\u001b[49m\u001b[38;5;241;43m.\u001b[39;49m\u001b[43mextract\u001b[49m\u001b[43m(\u001b[49m\u001b[43mwalk_stack\u001b[49m\u001b[43m(\u001b[49m\u001b[43mf\u001b[49m\u001b[43m)\u001b[49m\u001b[43m,\u001b[49m\u001b[43m \u001b[49m\u001b[43mlimit\u001b[49m\u001b[38;5;241;43m=\u001b[39;49m\u001b[43mlimit\u001b[49m\u001b[43m)\u001b[49m\n\u001b[0;32m    232\u001b[0m stack\u001b[38;5;241m.\u001b[39mreverse()\n\u001b[0;32m    233\u001b[0m \u001b[38;5;28;01mreturn\u001b[39;00m stack\n",
      "File \u001b[1;32mC:\\Program Files\\Python311\\Lib\\traceback.py:393\u001b[0m, in \u001b[0;36mStackSummary.extract\u001b[1;34m(klass, frame_gen, limit, lookup_lines, capture_locals)\u001b[0m\n\u001b[0;32m    390\u001b[0m     \u001b[38;5;28;01mfor\u001b[39;00m f, lineno \u001b[38;5;129;01min\u001b[39;00m frame_gen:\n\u001b[0;32m    391\u001b[0m         \u001b[38;5;28;01myield\u001b[39;00m f, (lineno, \u001b[38;5;28;01mNone\u001b[39;00m, \u001b[38;5;28;01mNone\u001b[39;00m, \u001b[38;5;28;01mNone\u001b[39;00m)\n\u001b[1;32m--> 393\u001b[0m \u001b[38;5;28;01mreturn\u001b[39;00m \u001b[43mklass\u001b[49m\u001b[38;5;241;43m.\u001b[39;49m\u001b[43m_extract_from_extended_frame_gen\u001b[49m\u001b[43m(\u001b[49m\n\u001b[0;32m    394\u001b[0m \u001b[43m    \u001b[49m\u001b[43mextended_frame_gen\u001b[49m\u001b[43m(\u001b[49m\u001b[43m)\u001b[49m\u001b[43m,\u001b[49m\u001b[43m \u001b[49m\u001b[43mlimit\u001b[49m\u001b[38;5;241;43m=\u001b[39;49m\u001b[43mlimit\u001b[49m\u001b[43m,\u001b[49m\u001b[43m \u001b[49m\u001b[43mlookup_lines\u001b[49m\u001b[38;5;241;43m=\u001b[39;49m\u001b[43mlookup_lines\u001b[49m\u001b[43m,\u001b[49m\n\u001b[0;32m    395\u001b[0m \u001b[43m    \u001b[49m\u001b[43mcapture_locals\u001b[49m\u001b[38;5;241;43m=\u001b[39;49m\u001b[43mcapture_locals\u001b[49m\u001b[43m)\u001b[49m\n",
      "File \u001b[1;32mC:\\Program Files\\Python311\\Lib\\traceback.py:432\u001b[0m, in \u001b[0;36mStackSummary._extract_from_extended_frame_gen\u001b[1;34m(klass, frame_gen, limit, lookup_lines, capture_locals)\u001b[0m\n\u001b[0;32m    428\u001b[0m     result\u001b[38;5;241m.\u001b[39mappend(FrameSummary(\n\u001b[0;32m    429\u001b[0m         filename, lineno, name, lookup_line\u001b[38;5;241m=\u001b[39m\u001b[38;5;28;01mFalse\u001b[39;00m, \u001b[38;5;28mlocals\u001b[39m\u001b[38;5;241m=\u001b[39mf_locals,\n\u001b[0;32m    430\u001b[0m         end_lineno\u001b[38;5;241m=\u001b[39mend_lineno, colno\u001b[38;5;241m=\u001b[39mcolno, end_colno\u001b[38;5;241m=\u001b[39mend_colno))\n\u001b[0;32m    431\u001b[0m \u001b[38;5;28;01mfor\u001b[39;00m filename \u001b[38;5;129;01min\u001b[39;00m fnames:\n\u001b[1;32m--> 432\u001b[0m     \u001b[43mlinecache\u001b[49m\u001b[38;5;241;43m.\u001b[39;49m\u001b[43mcheckcache\u001b[49m\u001b[43m(\u001b[49m\u001b[43mfilename\u001b[49m\u001b[43m)\u001b[49m\n\u001b[0;32m    433\u001b[0m \u001b[38;5;66;03m# If immediate lookup was desired, trigger lookups now.\u001b[39;00m\n\u001b[0;32m    434\u001b[0m \u001b[38;5;28;01mif\u001b[39;00m lookup_lines:\n",
      "File \u001b[1;32mC:\\Program Files\\Python311\\Lib\\linecache.py:72\u001b[0m, in \u001b[0;36mcheckcache\u001b[1;34m(filename)\u001b[0m\n\u001b[0;32m     70\u001b[0m     \u001b[38;5;28;01mcontinue\u001b[39;00m   \u001b[38;5;66;03m# no-op for files loaded via a __loader__\u001b[39;00m\n\u001b[0;32m     71\u001b[0m \u001b[38;5;28;01mtry\u001b[39;00m:\n\u001b[1;32m---> 72\u001b[0m     stat \u001b[38;5;241m=\u001b[39m os\u001b[38;5;241m.\u001b[39mstat(fullname)\n\u001b[0;32m     73\u001b[0m \u001b[38;5;28;01mexcept\u001b[39;00m \u001b[38;5;167;01mOSError\u001b[39;00m:\n\u001b[0;32m     74\u001b[0m     cache\u001b[38;5;241m.\u001b[39mpop(filename, \u001b[38;5;28;01mNone\u001b[39;00m)\n",
      "\u001b[1;31mKeyboardInterrupt\u001b[0m: "
     ]
    }
   ],
   "source": [
    "model.to(device)\n",
    "\n",
    "criterion = nn.CrossEntropyLoss()\n",
    "optimizer = optim.Adam(model.parameters(), lr=0.001)\n",
    "\n",
    "num_epochs = 10\n",
    "torch.autograd.set_detect_anomaly(True)\n",
    "\n",
    "model.train()\n",
    "for epoch in range(num_epochs):    \n",
    "    running_loss = 0.0\n",
    "    \n",
    "    for inputs, targets in tqdm(train_loader):\n",
    "        inputs, targets = inputs.to(device), targets.to(device)\n",
    "        \n",
    "        optimizer.zero_grad()\n",
    "        outputs = model(inputs)\n",
    "        loss = criterion(outputs, targets)\n",
    "            \n",
    "        loss.backward()\n",
    "        optimizer.step()\n",
    "\n",
    "        running_loss += loss.item() * inputs.size(0)\n",
    "    # print(running_loss)\n",
    "    epoch_loss = running_loss / len(train_loader.dataset)\n",
    "    print(f'Epoch {epoch+1}/{num_epochs}, Loss: {epoch_loss:.4f}')\n",
    "\n",
    "    model.eval()\n",
    "    correct_predictions = 0\n",
    "    eval_loss = 0\n",
    "    for inputs, targets in tqdm(val_loader):\n",
    "        if len(inputs)<batch_size:\n",
    "            continue\n",
    "        inputs, targets = inputs.to(device), targets.to(device)\n",
    "        outputs = model(inputs)\n",
    "        loss = criterion(outputs, targets)\n",
    "        eval_loss += loss.item() * inputs.size(0)\n",
    "        predicted_classes = torch.argmax(outputs, dim=1)\n",
    "        ground_truth_classes = torch.argmax(targets, dim=1)\n",
    "        correct_predictions += torch.sum(predicted_classes == ground_truth_classes).item()\n",
    "    accuracy = correct_predictions / len(val_loader)/batch_size  \n",
    "    eval_loss = eval_loss / len(val_loader.dataset)\n",
    "    print(f'Accuracy: {accuracy}; Loss: {eval_loss}')"
   ]
  },
  {
   "cell_type": "code",
   "execution_count": 103,
   "id": "f6e63511-d8d4-409e-abd0-a067f61f3a89",
   "metadata": {},
   "outputs": [
    {
     "data": {
      "application/vnd.jupyter.widget-view+json": {
       "model_id": "08e45673922c4c3d9695058028d50995",
       "version_major": 2,
       "version_minor": 0
      },
      "text/plain": [
       "  0%|          | 0/3 [00:00<?, ?it/s]"
      ]
     },
     "metadata": {},
     "output_type": "display_data"
    },
    {
     "name": "stdout",
     "output_type": "stream",
     "text": [
      "Accuracy in training set: 24\n",
      "torch.Size([32, 37])\n",
      "Accuracy in training set: 26\n",
      "torch.Size([32, 37])\n",
      "Accuracy in training set: 0\n",
      "torch.Size([1, 37])\n",
      "0.08812510760294066\n"
     ]
    }
   ],
   "source": [
    "val_loss = 0\n",
    "for inputs, label in tqdm(val_loader):\n",
    "    output = model(inputs.to(device))\n",
    "    predicted_classes = torch.argmax(output, dim=1)\n",
    "    ground_truth_classes = torch.argmax(label, dim=1)\n",
    "    equal = predicted_classes.cpu() == ground_truth_classes.cpu()\n",
    "    correct_predictions = torch.sum(equal).item()\n",
    "    print(f'Accuracy in training set: {correct_predictions}')\n",
    "    print(inputs.shape)\n",
    "    loss = criterion(output, label.to('cuda'))\n",
    "    val_loss+= loss.item() * inputs.size(0)\n",
    "val_loss = val_loss/len(train_loader.dataset)\n",
    "print(val_loss)"
   ]
  },
  {
   "cell_type": "code",
   "execution_count": null,
   "id": "ac988f0c-46c5-4124-b271-85fa3ffe6169",
   "metadata": {},
   "outputs": [],
   "source": []
  }
 ],
 "metadata": {
  "kernelspec": {
   "display_name": "Python 3 (ipykernel)",
   "language": "python",
   "name": "python3"
  },
  "language_info": {
   "codemirror_mode": {
    "name": "ipython",
    "version": 3
   },
   "file_extension": ".py",
   "mimetype": "text/x-python",
   "name": "python",
   "nbconvert_exporter": "python",
   "pygments_lexer": "ipython3",
   "version": "3.11.2"
  }
 },
 "nbformat": 4,
 "nbformat_minor": 5
}
